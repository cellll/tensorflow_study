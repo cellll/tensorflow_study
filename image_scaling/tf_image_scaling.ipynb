{
 "cells": [
  {
   "cell_type": "code",
   "execution_count": 97,
   "metadata": {},
   "outputs": [],
   "source": [
    "import tensorflow as tf\n",
    "import time\n",
    "from PIL import Image\n",
    "import os\n",
    "import numpy as np\n",
    "from tensorflow.python.framework import graph_util\n",
    "from tensorflow.python.framework import tensor_shape\n",
    "from tensorflow.python.platform import gfile\n",
    "from tensorflow.python.util import compat\n",
    "import argparse\n",
    "from datetime import datetime\n",
    "import hashlib\n",
    "import random\n",
    "import re\n",
    "import sys\n",
    "import tarfile\n",
    "from six.moves import urllib\n",
    "\n",
    "from matplotlib.pyplot import imshow\n",
    "from matplotlib.pyplot import imsave\n",
    "\n",
    "import math\n",
    "import random\n",
    "\n"
   ]
  },
  {
   "cell_type": "code",
   "execution_count": 64,
   "metadata": {
    "collapsed": true
   },
   "outputs": [],
   "source": [
    "input_width = 299\n",
    "input_height = 299\n",
    "input_depth = 3\n",
    "input_mean = 128\n",
    "input_std = 128"
   ]
  },
  {
   "cell_type": "code",
   "execution_count": 142,
   "metadata": {
    "collapsed": true
   },
   "outputs": [],
   "source": [
    "def add_input_distortions(random_crop, random_scale, random_brightness):\n",
    "    jpeg_data = tf.placeholder(tf.string, name='JPGInput')\n",
    "    decode_image = tf.image.decode_jpeg(jpeg_data, channels=3)\n",
    "    decode_image_as_float = tf.cast(decode_image, dtype=tf.float32)\n",
    "    decode_image_4d = tf.expand_dims(decode_image_as_float, 0)\n",
    "    margin_scale = 1.0 + (random_crop / 100.0)\n",
    "    resize_scale = 1.0 + (random_scale / 100.0)\n",
    "    \n",
    "    margin_scale_value = tf.constant(margin_scale)\n",
    "    resize_scale_value = tf.random_uniform(tensor_shape.scalar(), minval=1.0, maxval=resize_scale)\n",
    "    \n",
    "    scale_value = tf.multiply(margin_scale_value, resize_scale_value)\n",
    "    precrop_width = tf.multiply(scale_value, input_width)\n",
    "    precrop_height = tf.multiply(scale_value, input_height)\n",
    "    precrop_shape = tf.stack([precrop_height, precrop_width])\n",
    "    precrop_shape_as_int = tf.cast(precrop_shape, dtype=tf.int32)\n",
    "    precropped_image = tf.image.resize_bilinear(decode_image_4d, precrop_shape_as_int)\n",
    "    #precropped_image = tf.image.resize_bilinear(decode_image_as_float, precrop_shape_as_int)\n",
    "    precropped_image_3d = tf.squeeze(precropped_image, squeeze_dims=[0])\n",
    "    cropped_image = tf.random_crop(precropped_image_3d, [input_height, input_width, input_depth])\n",
    "    \n",
    "    flip = random.randrange(0,2)\n",
    "    if flip == 1:\n",
    "        flipped_image = tf.image.random_flip_left_right(cropped_image)\n",
    "    else:\n",
    "        flipped_image = cropped_image\n",
    "    \n",
    "    brightness_min = 1.0 - (random_brightness / 100.0)\n",
    "    brightness_max = 1.0 + (random_brightness / 100.0)\n",
    "    brightness_value = tf.random_uniform(tensor_shape.scalar(), minval=brightness_min, maxval=brightness_max)\n",
    "    brightened_image = tf.multiply(flipped_image, brightness_value)\n",
    "    \n",
    "    offset_image = tf.subtract(brightened_image, input_mean)\n",
    "    mul_image = tf.multiply(offset_image, 1.0 / input_std)\n",
    "    distort_result = tf.expand_dims(mul_image, 0, name='DistortResult')\n",
    "    return jpeg_data, distort_result\n",
    "    \n",
    "    "
   ]
  },
  {
   "cell_type": "code",
   "execution_count": 138,
   "metadata": {},
   "outputs": [],
   "source": [
    "def get_random_distorted_bottlenecks(distorted_jpeg, distorted_image):\n",
    "    jpeg_data = gfile.FastGFile('/root/ss/image/13.jpg', 'rb').read()\n",
    "    distorted_image_data= sess.run(distorted_image, {distorted_jpeg:jpeg_data})\n",
    "    \n",
    "    return distorted_image_data"
   ]
  },
  {
   "cell_type": "code",
   "execution_count": 144,
   "metadata": {},
   "outputs": [
    {
     "name": "stdout",
     "output_type": "stream",
     "text": [
      "Step : 0\n",
      "Step : 1\n",
      "Step : 2\n",
      "Step : 3\n",
      "Step : 4\n",
      "Step : 5\n",
      "Step : 6\n",
      "Step : 7\n",
      "Step : 8\n",
      "Step : 9\n",
      "Step : 10\n",
      "Step : 11\n",
      "Step : 12\n",
      "Step : 13\n",
      "Step : 14\n",
      "Step : 15\n",
      "Step : 16\n",
      "Step : 17\n",
      "Step : 18\n",
      "Step : 19\n",
      "Step : 20\n",
      "Step : 21\n",
      "Step : 22\n",
      "Step : 23\n",
      "Step : 24\n",
      "Step : 25\n",
      "Step : 26\n",
      "Step : 27\n",
      "Step : 28\n",
      "Step : 29\n",
      "Step : 30\n",
      "Step : 31\n",
      "Step : 32\n",
      "Step : 33\n",
      "Step : 34\n",
      "Step : 35\n",
      "Step : 36\n",
      "Step : 37\n",
      "Step : 38\n",
      "Step : 39\n",
      "Step : 40\n",
      "Step : 41\n",
      "Step : 42\n",
      "Step : 43\n",
      "Step : 44\n",
      "Step : 45\n",
      "Step : 46\n",
      "Step : 47\n",
      "Step : 48\n",
      "Step : 49\n"
     ]
    }
   ],
   "source": [
    "step=50\n",
    "for i in range(step):\n",
    "    distorted_jpeg_data_tensor, distorted_image_tensor = add_input_distortions(20, 50, 70)\n",
    "    result = get_random_distorted_bottlenecks(distorted_jpeg_data_tensor, distorted_image_tensor)\n",
    "    imsave('/root/temp/'+str(i)+'.jpg', np.asarray(np.squeeze(result)))\n",
    "    #imsave('/root/temp/'+str(i)+'.jpg', np.asarray(result.reshape(299,299,3)))\n",
    "    print (\"Step : {}\".format(i))"
   ]
  },
  {
   "cell_type": "code",
   "execution_count": null,
   "metadata": {
    "collapsed": true
   },
   "outputs": [],
   "source": []
  },
  {
   "cell_type": "code",
   "execution_count": null,
   "metadata": {
    "collapsed": true
   },
   "outputs": [],
   "source": []
  },
  {
   "cell_type": "code",
   "execution_count": null,
   "metadata": {
    "collapsed": true
   },
   "outputs": [],
   "source": []
  }
 ],
 "metadata": {
  "kernelspec": {
   "display_name": "Python 2",
   "language": "python",
   "name": "python2"
  },
  "language_info": {
   "codemirror_mode": {
    "name": "ipython",
    "version": 2
   },
   "file_extension": ".py",
   "mimetype": "text/x-python",
   "name": "python",
   "nbconvert_exporter": "python",
   "pygments_lexer": "ipython2",
   "version": "2.7.5"
  }
 },
 "nbformat": 4,
 "nbformat_minor": 2
}
